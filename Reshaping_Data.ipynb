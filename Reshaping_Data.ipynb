{
 "cells": [
  {
   "cell_type": "code",
   "execution_count": 1,
   "id": "55a80e51",
   "metadata": {},
   "outputs": [],
   "source": [
    "#Load the modules that you'll use\n",
    "import os  #to help in creating and changing directories\n",
    "import pandas as pd #for data manipulation and analysis"
   ]
  },
  {
   "cell_type": "code",
   "execution_count": 2,
   "id": "5188a70b",
   "metadata": {},
   "outputs": [],
   "source": [
    "#Change your working directory to where the csv files are\n",
    "os.chdir(\"C:/Users/HP/Desktop/Wyco Reshape Data Task/\")"
   ]
  },
  {
   "cell_type": "code",
   "execution_count": 3,
   "id": "274cdd2c",
   "metadata": {},
   "outputs": [],
   "source": [
    "#Define column names and row names for the dataframe of our transformed data\n",
    "#Years is a range from 2000 to 2022\n",
    "#Dates are the last date in a dekad\n",
    "years = range(2000, 2022, 1)\n",
    "dates = [\"10-Jan\", \"20-Jan\", \"30-Jan\", \"9-Feb\", \"19-Feb\", \"29-Feb\", \"10-Mar\",\n",
    "           \"20-Mar\", \"30-Mar\", \"10-Apr\", \"20-Apr\", \"30-Apr\", \"10-May\", \"20-May\",\n",
    "           \"30-May\", \"10-Jun\", \"20-Jun\", \"30-Jun\", \"10-Jul\", \"20-Jul\", \"30-Jul\",\n",
    "           \"10-Aug\", \"20-Aug\", \"30-Aug\", \"10-Sep\", \"20-Sep\", \"30-Sep\", \"10-Oct\",\n",
    "           \"20-Oct\", \"30-Oct\", \"10-Nov\", \"20-Nov\", \"30-Nov\", \"10-Dec\", \"20-Dec\",\n",
    "           \"30-Dec\"]"
   ]
  },
  {
   "cell_type": "markdown",
   "id": "2eab039c",
   "metadata": {},
   "source": [
    "### reshaping_data() function\n",
    "\n",
    "#### This function takes the path of a file as the only input. Since we had already changed the working directory to where our files are, you just input the name of the file, for example, \"1213.csv\".\n",
    "#### A complete call of the function will be like: reshaping_data(\"1213.csv\")\n",
    "\n",
    "#### This is a reproducable code and all you need to do is pass the file names(one by one) and get your desired file transformed to the desired structure. "
   ]
  },
  {
   "cell_type": "code",
   "execution_count": 4,
   "id": "28bcc6d9",
   "metadata": {},
   "outputs": [],
   "source": [
    "def reshaping_data(path):\n",
    "    \n",
    "    #read in the file\n",
    "    data = pd.read_csv(path, skiprows=1)\n",
    "    data.columns = [\"Dekad Dates\", \"Data\"] #rename the columns of the file\n",
    "    \n",
    "    #create a dataframe filled with zeros for our transformed data\n",
    "    reshaped_data = pd.DataFrame(0, index = dates, columns = years)\n",
    "    \n",
    "    #Loop through the dekad dates and fill the dataframe appropriately depending on the dakad dates\n",
    "    for i in range(len(data.index)):\n",
    "        date = data.loc[i, \"Dekad Dates\"]\n",
    "        if int(str(date)[4:]) == 1:\n",
    "            reshaped_data.loc[\"10-Jan\", int(str(data.loc[i, \"Dekad Dates\"])[:4])] = data.loc[i, \"Data\"]\n",
    "        elif int(str(date)[4:]) == 2:\n",
    "            reshaped_data.loc[\"20-Jan\", int(str(data.loc[i, \"Dekad Dates\"])[:4])] = data.loc[i, \"Data\"]\n",
    "        elif int(str(date)[4:]) == 3:\n",
    "            reshaped_data.loc[\"30-Jan\", int(str(data.loc[i, \"Dekad Dates\"])[:4])] = data.loc[i, \"Data\"]\n",
    "        elif int(str(date)[4:]) == 4:\n",
    "            reshaped_data.loc[\"9-Feb\", int(str(data.loc[i, \"Dekad Dates\"])[:4])] = data.loc[i, \"Data\"]\n",
    "        elif int(str(date)[4:]) == 5:\n",
    "            reshaped_data.loc[\"19-Feb\", int(str(data.loc[i, \"Dekad Dates\"])[:4])] = data.loc[i, \"Data\"]\n",
    "        elif int(str(date)[4:]) == 6:\n",
    "            reshaped_data.loc[\"29-Feb\", int(str(data.loc[i, \"Dekad Dates\"])[:4])] = data.loc[i, \"Data\"]\n",
    "        elif int(str(date)[4:]) == 7:\n",
    "            reshaped_data.loc[\"10-Mar\", int(str(data.loc[i, \"Dekad Dates\"])[:4])] = data.loc[i, \"Data\"]\n",
    "        elif int(str(date)[4:]) == 8:\n",
    "            reshaped_data.loc[\"20-Mar\", int(str(data.loc[i, \"Dekad Dates\"])[:4])] = data.loc[i, \"Data\"]\n",
    "        elif int(str(date)[4:]) == 9:\n",
    "            reshaped_data.loc[\"30-Mar\", int(str(data.loc[i, \"Dekad Dates\"])[:4])] = data.loc[i, \"Data\"]\n",
    "        elif int(str(date)[4:]) == 10:\n",
    "            reshaped_data.loc[\"10-Apr\", int(str(data.loc[i, \"Dekad Dates\"])[:4])] = data.loc[i, \"Data\"]\n",
    "        elif int(str(date)[4:]) == 11:\n",
    "            reshaped_data.loc[\"20-Apr\", int(str(data.loc[i, \"Dekad Dates\"])[:4])] = data.loc[i, \"Data\"]\n",
    "        elif int(str(date)[4:]) == 12:\n",
    "            reshaped_data.loc[\"30-Apr\", int(str(data.loc[i, \"Dekad Dates\"])[:4])] = data.loc[i, \"Data\"]\n",
    "        elif int(str(date)[4:]) == 13:\n",
    "            reshaped_data.loc[\"10-May\", int(str(data.loc[i, \"Dekad Dates\"])[:4])] = data.loc[i, \"Data\"]\n",
    "        elif int(str(date)[4:]) == 14:\n",
    "            reshaped_data.loc[\"20-May\", int(str(data.loc[i, \"Dekad Dates\"])[:4])] = data.loc[i, \"Data\"]\n",
    "        elif int(str(date)[4:]) == 15:\n",
    "            reshaped_data.loc[\"30-May\", int(str(data.loc[i, \"Dekad Dates\"])[:4])] = data.loc[i, \"Data\"]\n",
    "        elif int(str(date)[4:]) == 16:\n",
    "            reshaped_data.loc[\"10-Jun\", int(str(data.loc[i, \"Dekad Dates\"])[:4])] = data.loc[i, \"Data\"]\n",
    "        elif int(str(date)[4:]) == 17:\n",
    "            reshaped_data.loc[\"20-Jun\", int(str(data.loc[i, \"Dekad Dates\"])[:4])] = data.loc[i, \"Data\"]\n",
    "        elif int(str(date)[4:]) == 18:\n",
    "            reshaped_data.loc[\"30-Jun\", int(str(data.loc[i, \"Dekad Dates\"])[:4])] = data.loc[i, \"Data\"]\n",
    "        elif int(str(date)[4:]) == 19:\n",
    "            reshaped_data.loc[\"10-Jul\", int(str(data.loc[i, \"Dekad Dates\"])[:4])] = data.loc[i, \"Data\"]\n",
    "        elif int(str(date)[4:]) == 20:\n",
    "            reshaped_data.loc[\"20-Jul\", int(str(data.loc[i, \"Dekad Dates\"])[:4])] = data.loc[i, \"Data\"]\n",
    "        elif int(str(date)[4:]) == 21:\n",
    "            reshaped_data.loc[\"30-Jul\", int(str(data.loc[i, \"Dekad Dates\"])[:4])] = data.loc[i, \"Data\"]\n",
    "        elif int(str(date)[4:]) == 22:\n",
    "            reshaped_data.loc[\"10-Aug\", int(str(data.loc[i, \"Dekad Dates\"])[:4])] = data.loc[i, \"Data\"]\n",
    "        elif int(str(date)[4:]) == 23:\n",
    "            reshaped_data.loc[\"20-Aug\", int(str(data.loc[i, \"Dekad Dates\"])[:4])] = data.loc[i, \"Data\"]\n",
    "        elif int(str(date)[4:]) == 24:\n",
    "            reshaped_data.loc[\"30-Aug\", int(str(data.loc[i, \"Dekad Dates\"])[:4])] = data.loc[i, \"Data\"]\n",
    "        elif int(str(date)[4:]) == 25:\n",
    "            reshaped_data.loc[\"10-Sep\", int(str(data.loc[i, \"Dekad Dates\"])[:4])] = data.loc[i, \"Data\"]\n",
    "        elif int(str(date)[4:]) == 26:\n",
    "            reshaped_data.loc[\"20-Sep\", int(str(data.loc[i, \"Dekad Dates\"])[:4])] = data.loc[i, \"Data\"]\n",
    "        elif int(str(date)[4:]) == 27:\n",
    "            reshaped_data.loc[\"30-Sep\", int(str(data.loc[i, \"Dekad Dates\"])[:4])] = data.loc[i, \"Data\"]\n",
    "        elif int(str(date)[4:]) == 28:\n",
    "            reshaped_data.loc[\"10-Oct\", int(str(data.loc[i, \"Dekad Dates\"])[:4])] = data.loc[i, \"Data\"]\n",
    "        elif int(str(date)[4:]) == 29:\n",
    "            reshaped_data.loc[\"20-Oct\", int(str(data.loc[i, \"Dekad Dates\"])[:4])] = data.loc[i, \"Data\"]\n",
    "        elif int(str(date)[4:]) == 30:\n",
    "            reshaped_data.loc[\"30-Oct\", int(str(data.loc[i, \"Dekad Dates\"])[:4])] = data.loc[i, \"Data\"]\n",
    "        elif int(str(date)[4:]) == 31:\n",
    "            reshaped_data.loc[\"10-Nov\", int(str(data.loc[i, \"Dekad Dates\"])[:4])] = data.loc[i, \"Data\"]\n",
    "        elif int(str(date)[4:]) == 32:\n",
    "            reshaped_data.loc[\"20-Nov\", int(str(data.loc[i, \"Dekad Dates\"])[:4])] = data.loc[i, \"Data\"]\n",
    "        elif int(str(date)[4:]) == 33:\n",
    "            reshaped_data.loc[\"30-Nov\", int(str(data.loc[i, \"Dekad Dates\"])[:4])] = data.loc[i, \"Data\"]\n",
    "        elif int(str(date)[4:]) == 34:\n",
    "            reshaped_data.loc[\"10-Dec\", int(str(data.loc[i, \"Dekad Dates\"])[:4])] = data.loc[i, \"Data\"]\n",
    "        elif int(str(date)[4:]) == 35:\n",
    "            reshaped_data.loc[\"20-Dec\", int(str(data.loc[i, \"Dekad Dates\"])[:4])] = data.loc[i, \"Data\"]\n",
    "        else:\n",
    "            reshaped_data.loc[\"30-Dec\", int(str(data.loc[i, \"Dekad Dates\"])[:4])] = data.loc[i, \"Data\"]\n",
    "    \n",
    "    #slice the '.csv' from the file name\n",
    "    filename = path[:-4] \n",
    "    \n",
    "    #Create a folder for your reshaped data\n",
    "    #Then make that folder the working directory so that the files get saved there\n",
    "    os.makedirs(os.path.join('Reshaped_Data'), exist_ok=True)\n",
    "    os.chdir(\"C:/Users/HP/Desktop/Wyco Reshape Data Task/Reshaped_Data\")\n",
    "        \n",
    "    #Save the dataframe with transformed data as a csv file on your device \n",
    "    reshaped_data.to_csv(\"{}_reshaped.csv\".format(filename))"
   ]
  },
  {
   "cell_type": "code",
   "execution_count": 5,
   "id": "14f69680",
   "metadata": {},
   "outputs": [],
   "source": [
    "#Call the function\n",
    "#Transform your data\n",
    "reshaping_data(\"1213.csv\")"
   ]
  },
  {
   "cell_type": "markdown",
   "id": "586482f8",
   "metadata": {},
   "source": [
    "#### Transform all the other files by passing the file name to the function.\n",
    "\n",
    "#### Thanks"
   ]
  }
 ],
 "metadata": {
  "kernelspec": {
   "display_name": "Python 3 (ipykernel)",
   "language": "python",
   "name": "python3"
  },
  "language_info": {
   "codemirror_mode": {
    "name": "ipython",
    "version": 3
   },
   "file_extension": ".py",
   "mimetype": "text/x-python",
   "name": "python",
   "nbconvert_exporter": "python",
   "pygments_lexer": "ipython3",
   "version": "3.8.12"
  }
 },
 "nbformat": 4,
 "nbformat_minor": 5
}
